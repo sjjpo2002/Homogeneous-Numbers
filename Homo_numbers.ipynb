{
 "cells": [
  {
   "cell_type": "markdown",
   "metadata": {},
   "source": [
    "# Sum of homogeneous numbers"
   ]
  },
  {
   "cell_type": "markdown",
   "metadata": {
    "collapsed": true
   },
   "source": [
    "Consider the integer i = 2635092. The sum of the first n/2 digits [2+6+3+5] equals the sum of the last n/2 digits [5+0+9+2]. All palindrome integers (121, 33, 45654, etc) obviously hold this condition, as do quite a few non-palindrome integers (such as the first example). For the purposes of this exercise we’ll call these “homogenous numbers”.\n",
    "\n",
    "Let T(n) be the sum of all homogenous numbers less than 10^n. Example outputs:\n",
    "\n",
    "T(1) = 45    \n",
    "T(2) = 540    \n",
    "T(4) = 3,364,890\n",
    "\n",
    "Write an algorithm to solve T(N) for the largest value of N you can. T(20) would be considered an excellent solution. For reference, there are solutions that solve T(45) and beyond."
   ]
  },
  {
   "cell_type": "markdown",
   "metadata": {},
   "source": [
    "The naive approach to solve this problem would be checking every integer up to $10^n$ and adding them to the result if they are homogeneous. This approach is not very efficient and can take a long time to run. Instead of checking all the numbers, we can generate homogenous numbers and then add them up. Doing this using a recursive function is trivial. Usually, recursive programming is not advised for too many function calls which might result in stack overflow. But, for this application calculating T(n) is desired for relatively small n. Here is the code to calculate the homo numbers sum:"
   ]
  },
  {
   "cell_type": "code",
   "execution_count": 11,
   "metadata": {
    "collapsed": true
   },
   "outputs": [],
   "source": [
    "def sum1(n, s, lead_zero=False):\n",
    "    assert s <= n*9, \"{} is out of range for {} digit numbers\".format(s, n)\n",
    "    nums = []\n",
    "    if s <= 9:\n",
    "        if n == 1:\n",
    "            return [s]\n",
    "        else:            \n",
    "            for i in range(0 if lead_zero else 1, s+1):\n",
    "                for j in sum1(n-1, s-i, True):\n",
    "                    nums.append(i*10**(n-1)+j)\n",
    "    else:        \n",
    "        for i in range(s-9, 10):\n",
    "            for j in sum1(n-1, s-i, True):\n",
    "                nums.append(i*10**(n-1)+j)\n",
    "\n",
    "    return nums\n",
    "\n",
    "def T(n):\n",
    "    \"\"\"return sum of homo numbers less than 10**n\"\"\"\n",
    "    if n == 1:\n",
    "        return 45\n",
    "    else:\n",
    "        result = 0L        \n",
    "        for s in range(1, n/2*9+1):\n",
    "            for l in sum1(n/2, s):\n",
    "                for r in sum1(n/2, s, True):\n",
    "                    if n % 2 == 0:\n",
    "                        result += l*10**(n/2) + r\n",
    "                    else:\n",
    "                        result += (l*10**(n/2+1) + r)*10 + 45*10**(n/2)\n",
    "\n",
    "        return T(n-1) + result"
   ]
  },
  {
   "cell_type": "markdown",
   "metadata": {},
   "source": [
    "Sum1() is a helper function that returns all the combination of $n$ digit numbers that sum to $s$. The rest of the code is just constructing homo numbers for every possible combination of numbers in the first and second half of the n digit target number. for an odd $n$ the digit in the middle can be anything from 0 to 9. So we added all of those terms into the result which translates to multiplying each number in 10 and adding $45*10^{n/2}$. \n",
    "\n",
    "Let's test the code for different $n$ values:"
   ]
  },
  {
   "cell_type": "code",
   "execution_count": 12,
   "metadata": {
    "collapsed": false
   },
   "outputs": [
    {
     "data": {
      "text/plain": [
       "45"
      ]
     },
     "execution_count": 12,
     "metadata": {},
     "output_type": "execute_result"
    }
   ],
   "source": [
    "T(1)"
   ]
  },
  {
   "cell_type": "code",
   "execution_count": 13,
   "metadata": {
    "collapsed": false
   },
   "outputs": [
    {
     "data": {
      "text/plain": [
       "540L"
      ]
     },
     "execution_count": 13,
     "metadata": {},
     "output_type": "execute_result"
    }
   ],
   "source": [
    "T(2)"
   ]
  },
  {
   "cell_type": "code",
   "execution_count": 14,
   "metadata": {
    "collapsed": false
   },
   "outputs": [
    {
     "data": {
      "text/plain": [
       "50040L"
      ]
     },
     "execution_count": 14,
     "metadata": {},
     "output_type": "execute_result"
    }
   ],
   "source": [
    "T(3)"
   ]
  },
  {
   "cell_type": "code",
   "execution_count": 15,
   "metadata": {
    "collapsed": false
   },
   "outputs": [
    {
     "data": {
      "text/plain": [
       "3364890L"
      ]
     },
     "execution_count": 15,
     "metadata": {},
     "output_type": "execute_result"
    }
   ],
   "source": [
    "T(4)"
   ]
  },
  {
   "cell_type": "markdown",
   "metadata": {},
   "source": [
    "Let's try it for a bigger number!"
   ]
  },
  {
   "cell_type": "code",
   "execution_count": 17,
   "metadata": {
    "collapsed": false
   },
   "outputs": [
    {
     "name": "stdout",
     "output_type": "stream",
     "text": [
      "Wall time: 6 s\n"
     ]
    },
    {
     "data": {
      "text/plain": [
       "21062123217367430L"
      ]
     },
     "execution_count": 17,
     "metadata": {},
     "output_type": "execute_result"
    }
   ],
   "source": [
    "%%time\n",
    "T(10)"
   ]
  },
  {
   "cell_type": "markdown",
   "metadata": {},
   "source": [
    "Since the size matters for this question. Let's try it for n=20 which is considered to be EXCELLENT!"
   ]
  },
  {
   "cell_type": "code",
   "execution_count": 18,
   "metadata": {
    "collapsed": false
   },
   "outputs": [
    {
     "name": "stdout",
     "output_type": "stream",
     "text": [
      "Wall time: 1d 3h 16min 22s\n"
     ]
    },
    {
     "data": {
      "text/plain": [
       "1199906682324863929432130454750L"
      ]
     },
     "execution_count": 18,
     "metadata": {},
     "output_type": "execute_result"
    }
   ],
   "source": [
    "%%time\n",
    "T(20)"
   ]
  },
  {
   "cell_type": "markdown",
   "metadata": {},
   "source": [
    "There are ways to make code run faster. For example we can calculate sum1() functions output for all the n and s values that we expect to see during the run time and put them in a dictionary. Next time instead of calling sum1() we could just look it up from the preloaded dictionary which will save some time for calculations."
   ]
  }
 ],
 "metadata": {
  "kernelspec": {
   "display_name": "Python 2",
   "language": "python",
   "name": "python2"
  },
  "language_info": {
   "codemirror_mode": {
    "name": "ipython",
    "version": 2
   },
   "file_extension": ".py",
   "mimetype": "text/x-python",
   "name": "python",
   "nbconvert_exporter": "python",
   "pygments_lexer": "ipython2",
   "version": "2.7.11"
  }
 },
 "nbformat": 4,
 "nbformat_minor": 0
}
